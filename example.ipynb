{
 "cells": [
  {
   "cell_type": "markdown",
   "id": "9f1545f3",
   "metadata": {},
   "source": [
    "# Competitive Programming Assistant\n",
    "Type 'exit' or 'quit' to end the session"
   ]
  },
  {
   "cell_type": "code",
   "execution_count": 3,
   "id": "40103509",
   "metadata": {},
   "outputs": [
    {
     "name": "stdout",
     "output_type": "stream",
     "text": [
      "Building knowledge base...\n",
      "Knowledge base built with 8 problems\n"
     ]
    }
   ],
   "source": [
    "from rag_chatbot import Chatbot\n",
    "bot = Chatbot()"
   ]
  },
  {
   "cell_type": "code",
   "execution_count": 4,
   "id": "7fee51a0",
   "metadata": {},
   "outputs": [
    {
     "name": "stdout",
     "output_type": "stream",
     "text": [
      "Competitive Programming Assistant\n",
      "Type 'exit' to quit\n",
      "\n",
      "\n",
      "You: Hi\n",
      "\n",
      "\n",
      "Bot: Hello! I'm your competitive programming assistant. Please provide a problem ID (e.g., 2093I) to get started.\n",
      "\n",
      "================================================================================\n",
      "\n",
      "\n",
      "You: I have a doubt in 2087A\n",
      "\n",
      "\n",
      "Bot: Loaded problem 2087A. You can ask about:\n",
      "- The problem statement\n",
      "- Input/output specifications\n",
      "- Solution approach\n",
      "\n",
      "================================================================================\n",
      "\n",
      "\n",
      "You: in 20-30 words explain problem statement\n",
      "\n",
      "\n",
      "Bot: The problem statement asks to generate a password that meets certain requirements, where the password consists of a sequence of digits, uppercase letters, and lowercase letters, with alternating characters in each category.\n",
      "\n",
      "This problem is similar to Problem 2087A (Password Generator), where the solution involves printing a sequence of characters with alternating options in each category. The key insight is to use the modulo operator to determine which character to print at each position.\n",
      "\n",
      "================================================================================\n",
      "\n"
     ]
    }
   ],
   "source": [
    "print(\"Competitive Programming Assistant\")\n",
    "print(\"Type 'exit' to quit\\n\")\n",
    "while True:\n",
    "    try:\n",
    "        user_input = input(\"You: \")\n",
    "        if user_input.lower() in ['exit', 'quit']:\n",
    "            break\n",
    "\n",
    "        print(f\"\\nYou: {user_input}\\n\")   \n",
    "        response = bot.respond(user_input)\n",
    "        print(\"\\nBot:\", response)\n",
    "        print(\"\\n\" + \"=\"*80 + \"\\n\")\n",
    "    except KeyboardInterrupt:\n",
    "        break\n",
    "    except Exception as e:\n",
    "        print(f\"Error: {str(e)}\")\n",
    "        continue"
   ]
  }
 ],
 "metadata": {
  "kernelspec": {
   "display_name": "Python 3",
   "language": "python",
   "name": "python3"
  },
  "language_info": {
   "codemirror_mode": {
    "name": "ipython",
    "version": 3
   },
   "file_extension": ".py",
   "mimetype": "text/x-python",
   "name": "python",
   "nbconvert_exporter": "python",
   "pygments_lexer": "ipython3",
   "version": "3.11.4"
  }
 },
 "nbformat": 4,
 "nbformat_minor": 5
}
